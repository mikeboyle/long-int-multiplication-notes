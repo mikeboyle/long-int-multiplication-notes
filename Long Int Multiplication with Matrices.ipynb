{
 "cells": [
  {
   "cell_type": "markdown",
   "id": "5e2dd780",
   "metadata": {},
   "source": [
    "# `LongInt` multiplication with matrices"
   ]
  },
  {
   "cell_type": "markdown",
   "id": "ae87b4f7",
   "metadata": {},
   "source": [
    "Most American children are taught a procedure for multiplication that represents the problem as a sum of products that have been shifted, for example:\n",
    "```\n",
    "    123\n",
    "  x 321\n",
    "    ---\n",
    "    123\n",
    "+  246\n",
    "+ 369\n",
    "  -----\n",
    "  39483\n",
    "```"
   ]
  },
  {
   "cell_type": "markdown",
   "id": "26a49eb0",
   "metadata": {},
   "source": [
    "In this procedure, it is implied that there are zeroes in columns where numbers are absent:\n",
    "```\n",
    "  00123\n",
    "+ 02460\n",
    "+ 36900\n",
    "  -----\n",
    "  39483\n",
    "```"
   ]
  },
  {
   "cell_type": "markdown",
   "id": "e6a15859",
   "metadata": {},
   "source": [
    "We can represent this addition in a matrix format. Here, each row in the matrix from top to bottom has the same sums as columns in the traditional method, from right to left. The top row of the matrix corresponds to the 1s column of the traditional method. The second from top row corresponds to the 10s column, and so on:\n",
    "\n",
    "$ 123 \\cdot 321 = \\begin{pmatrix}\n",
    "3 + 0 + 0\\\\\n",
    "2 + 6 + 0\\\\\n",
    "1 + 4 + 9\\\\\n",
    "0 + 2 + 6\\\\\n",
    "0 + 0 + 3\\\\\n",
    "\\end{pmatrix} $\n"
   ]
  },
  {
   "cell_type": "markdown",
   "id": "8d9d582b",
   "metadata": {},
   "source": [
    "The numbers being added relate back to the originial digits in the numbers being multiplied:\n",
    "\n",
    "$ 123 \\cdot 321 = \\begin{pmatrix}\n",
    "3\\cdot 1 + 0 + 0\\\\\n",
    "2\\cdot 1 + 3\\cdot 2 + 0\\\\\n",
    "1\\cdot 1 + 2\\cdot 2 + 3\\cdot 3\\\\\n",
    "0 + 1\\cdot 2 + 2\\cdot 3\\\\\n",
    "0 + 0 + 1\\cdot 3\\\\\n",
    "\\end{pmatrix} $"
   ]
  },
  {
   "cell_type": "markdown",
   "id": "94f4c4f0",
   "metadata": {},
   "source": [
    "Generalizing this a bit more, we can say that for any numbers $abc$ and $def$:\n",
    "\n",
    "$ abc \\cdot def = \\begin{pmatrix}\n",
    "c\\cdot f + 0 + 0\\\\\n",
    "b\\cdot f + c\\cdot e + 0\\\\\n",
    "a\\cdot f + b\\cdot e + c\\cdot d\\\\\n",
    "0 + a\\cdot e + b\\cdot d\\\\\n",
    "0 + 0 + a\\cdot d\\\\\n",
    "\\end{pmatrix} $"
   ]
  },
  {
   "cell_type": "markdown",
   "id": "2ca39754",
   "metadata": {},
   "source": [
    "From this, we can reconstruct two matrices whose product equals the third:\n",
    "\n",
    "$ abc\\cdot def =\\begin{pmatrix}\n",
    "c & 0 & 0\\\\\n",
    "b & c & 0\\\\\n",
    "a & b & c\\\\\n",
    "0 & a & b\\\\\n",
    "0 & 0 & a \\\\\n",
    "\\end{pmatrix} \\cdot \\begin{pmatrix}\n",
    "f\\\\\n",
    "e\\\\\n",
    "d\\\\\n",
    "\\end{pmatrix} = \\begin{pmatrix}\n",
    "c\\cdot f + 0 + 0\\\\\n",
    "b\\cdot f + c\\cdot e + 0\\\\\n",
    "a\\cdot f + b\\cdot e + c\\cdot d\\\\\n",
    "0 + a\\cdot e + b\\cdot d\\\\\n",
    "0 + 0 + a\\cdot d\\\\\n",
    "\\end{pmatrix}\n",
    "$"
   ]
  },
  {
   "cell_type": "markdown",
   "id": "8f19e900",
   "metadata": {},
   "source": [
    "For any two numbers being multiplied, $x$ and $y$, the dimensions of the left matrix are determined using the number of digits in $x$ and $y$.\n",
    "\n",
    "The number of rows is $len(x) + len(y) - 1$ The number of columns is always $len(y)$. The left matrix consists of all zeroes, with the digits of $y$ occupying diagonals in reverse order, starting at ${(0, 0), (1, 1), (2, 2), ...}$ then ${(1, 0), (2, 1), (3, 2), ...}$ and so on.\n",
    "\n",
    "The dimensions of the right matrix are $len(y)$ rows and 1 column.\n",
    "\n",
    "The dimensions of the product will therefore be equal to $len(x) + len(y) -1$ rows and 1 column."
   ]
  },
  {
   "cell_type": "markdown",
   "id": "d49e8de8",
   "metadata": {},
   "source": [
    "To convert the product to a `LargeInteger` instance, we follow this procedure. Because an entry in the product matrix may be larger than 0, we need to use a `carry` variable and may also need to add a final digit to the result.\n",
    "```\n",
    "initialize a new LargeInt\n",
    "carry <- 0\n",
    "for number in product:\n",
    "    insert (number + carry) % 10 at the end of the LargeInt\n",
    "    carry <- (number + carry) / 10\n",
    "\n",
    "if carry is > 0:\n",
    "    insert carry at the end of the LargeInt\n",
    "```"
   ]
  }
 ],
 "metadata": {
  "kernelspec": {
   "display_name": "Python 3",
   "language": "python",
   "name": "python3"
  },
  "language_info": {
   "codemirror_mode": {
    "name": "ipython",
    "version": 3
   },
   "file_extension": ".py",
   "mimetype": "text/x-python",
   "name": "python",
   "nbconvert_exporter": "python",
   "pygments_lexer": "ipython3",
   "version": "3.8.8"
  }
 },
 "nbformat": 4,
 "nbformat_minor": 5
}
